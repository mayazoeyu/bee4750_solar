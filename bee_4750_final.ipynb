{
 "cells": [
  {
   "cell_type": "markdown",
   "metadata": {},
   "source": [
    "# BEE 4750 Final Project: Solar Photovoltaic Feasibility Study on Cornell's Engineering Quadrangle\n",
    "\n",
    "**Names**: Sitara Sastry, Maya Zoe Yu\n",
    "\n",
    "**ID**: sls496, mzy3\n",
    "\n",
    "> **Introduction**\n",
    ">\n",
    "> The following model will conduct a feasibility study of solar energy production on Cornell's Engineering Quadrangle. As Cornell’s Climate Action Plan seeks to have Cornell’s Ithaca campus carbon neutral by 2035 through utilizing 100% renewable energy, the proposed research will analyze if solar energy would help to achieve these goals. As such, the study will analyze how Cornell can invest in solar photovoltaics (PV) to increase this percentage – focusing mainly on the Engineering Quadrangle. In addition, the model will analyze the theoretical production of solar rooftop PV systems while optimzing cost. \n"
   ]
  },
  {
   "cell_type": "code",
   "execution_count": 28,
   "metadata": {},
   "outputs": [
    {
     "name": "stderr",
     "output_type": "stream",
     "text": [
      "\u001b[32m\u001b[1m  Activating\u001b[22m\u001b[39m project at `~/BEE 4750/bee4750_solar`\n"
     ]
    },
    {
     "name": "stderr",
     "output_type": "stream",
     "text": [
      "\u001b[32m\u001b[1m   Resolving\u001b[22m\u001b[39m package versions...\n"
     ]
    },
    {
     "name": "stderr",
     "output_type": "stream",
     "text": [
      "\u001b[32m\u001b[1m  No Changes\u001b[22m\u001b[39m to `~/BEE 4750/bee4750_solar/Project.toml`\n",
      "\u001b[32m\u001b[1m  No Changes\u001b[22m\u001b[39m to `~/BEE 4750/bee4750_solar/Manifest.toml`\n"
     ]
    },
    {
     "name": "stderr",
     "output_type": "stream",
     "text": [
      "\u001b[32m\u001b[1m   Resolving\u001b[22m\u001b[39m package versions...\n"
     ]
    },
    {
     "name": "stderr",
     "output_type": "stream",
     "text": [
      "\u001b[32m\u001b[1m  No Changes\u001b[22m\u001b[39m to `~/BEE 4750/bee4750_solar/Project.toml`\n",
      "\u001b[32m\u001b[1m  No Changes\u001b[22m\u001b[39m to `~/BEE 4750/bee4750_solar/Manifest.toml`\n"
     ]
    },
    {
     "name": "stderr",
     "output_type": "stream",
     "text": [
      "\u001b[32m\u001b[1m   Resolving\u001b[22m\u001b[39m package versions...\n"
     ]
    },
    {
     "name": "stderr",
     "output_type": "stream",
     "text": [
      "\u001b[32m\u001b[1m  No Changes\u001b[22m\u001b[39m to `~/BEE 4750/bee4750_solar/Project.toml`\n",
      "\u001b[32m\u001b[1m  No Changes\u001b[22m\u001b[39m to `~/BEE 4750/bee4750_solar/Manifest.toml`\n"
     ]
    },
    {
     "name": "stderr",
     "output_type": "stream",
     "text": [
      "\u001b[32m\u001b[1m   Resolving\u001b[22m\u001b[39m package versions...\n"
     ]
    },
    {
     "name": "stderr",
     "output_type": "stream",
     "text": [
      "\u001b[32m\u001b[1m  No Changes\u001b[22m\u001b[39m to `~/BEE 4750/bee4750_solar/Project.toml`\n",
      "\u001b[32m\u001b[1m  No Changes\u001b[22m\u001b[39m to `~/BEE 4750/bee4750_solar/Manifest.toml`\n"
     ]
    },
    {
     "name": "stderr",
     "output_type": "stream",
     "text": [
      "\u001b[32m\u001b[1m   Resolving\u001b[22m\u001b[39m package versions...\n"
     ]
    },
    {
     "name": "stderr",
     "output_type": "stream",
     "text": [
      "\u001b[32m\u001b[1m  No Changes\u001b[22m\u001b[39m to `~/BEE 4750/bee4750_solar/Project.toml`\n",
      "\u001b[32m\u001b[1m  No Changes\u001b[22m\u001b[39m to `~/BEE 4750/bee4750_solar/Manifest.toml`\n"
     ]
    },
    {
     "name": "stderr",
     "output_type": "stream",
     "text": [
      "\u001b[32m\u001b[1m   Resolving\u001b[22m\u001b[39m package versions...\n"
     ]
    },
    {
     "name": "stderr",
     "output_type": "stream",
     "text": [
      "\u001b[32m\u001b[1m  No Changes\u001b[22m\u001b[39m to `~/BEE 4750/bee4750_solar/Project.toml`\n",
      "\u001b[32m\u001b[1m  No Changes\u001b[22m\u001b[39m to `~/BEE 4750/bee4750_solar/Manifest.toml`\n"
     ]
    },
    {
     "name": "stderr",
     "output_type": "stream",
     "text": [
      "\u001b[32m\u001b[1m   Resolving\u001b[22m\u001b[39m package versions...\n"
     ]
    },
    {
     "name": "stderr",
     "output_type": "stream",
     "text": [
      "\u001b[32m\u001b[1m  No Changes\u001b[22m\u001b[39m to `~/BEE 4750/bee4750_solar/Project.toml`\n",
      "\u001b[32m\u001b[1m  No Changes\u001b[22m\u001b[39m to `~/BEE 4750/bee4750_solar/Manifest.toml`\n"
     ]
    },
    {
     "name": "stderr",
     "output_type": "stream",
     "text": [
      "\u001b[32m\u001b[1m   Resolving\u001b[22m\u001b[39m package versions...\n"
     ]
    },
    {
     "name": "stderr",
     "output_type": "stream",
     "text": [
      "\u001b[32m\u001b[1m  No Changes\u001b[22m\u001b[39m to `~/BEE 4750/bee4750_solar/Project.toml`\n",
      "\u001b[32m\u001b[1m  No Changes\u001b[22m\u001b[39m to `~/BEE 4750/bee4750_solar/Manifest.toml`\n"
     ]
    }
   ],
   "source": [
    "import Pkg\n",
    "Pkg.activate(@__DIR__)\n",
    "Pkg.instantiate()\n",
    "\n",
    "Pkg.add(\"JuMP\")\n",
    "Pkg.add(\"HiGHS\")\n",
    "Pkg.add(\"DataFrames\")\n",
    "Pkg.add(\"CSV\")\n",
    "Pkg.add(\"GraphRecipes\")\n",
    "Pkg.add(\"Plots\")\n",
    "Pkg.add(\"Measures\")\n",
    "Pkg.add(\"MarkdownTables\")"
   ]
  },
  {
   "cell_type": "markdown",
   "metadata": {},
   "source": [
    "### Theoretical Solar Output Model"
   ]
  },
  {
   "cell_type": "markdown",
   "metadata": {},
   "source": [
    "#### Electricity Demand for Cornell's Engineering Quad\n",
    "Cornell's Engineering Quadrangle encompasses the following buildings: Olin Hall, Carpenter Hall, Duffield Hall, Phillips Hall, Rhodes Hall, Upson Hall, Kimball Hall, Bard Hall, Snee Hall, Hollister Hall, and Ward Hall. The yearly electricity demand for these buildings may be found through the following: "
   ]
  },
  {
   "cell_type": "code",
   "execution_count": 29,
   "metadata": {},
   "outputs": [
    {
     "data": {
      "text/plain": [
       "(93.95825280965539, 0.8991070558326744, 24.837703213282005)"
      ]
     },
     "metadata": {},
     "output_type": "display_data"
    }
   ],
   "source": [
    "### Solar Geometry Function\n",
    "function solar_geometry(N, L, H, β, γ)\n",
    "    # Convert relevant inputs into radians \n",
    "    L = deg2rad(L)\n",
    "    β = deg2rad(β)\n",
    "    γ = deg2rad(γ)\n",
    "\n",
    "    # Calculate all relevant solar geometry angles \n",
    "    δ = 23.45(sin(deg2rad(360(284+N))/365)) # Declination Angle\n",
    "    ω = ((H-12)*15) # Hour Angle \n",
    "    δ = deg2rad(δ)\n",
    "    ω = deg2rad(ω)\n",
    "    α = asin(sin(δ)*sin(L)+cos(δ)*cos(L)*cos(ω)) # Solar Altitude Angle\n",
    "    γ_s = asin((cos(δ)*sin(ω))/cos(α)) # Solar Azimuth Angle\n",
    "    θ_i = acos(sin(α)*cos(β)+cos(α)*sin(β)*cos(γ-γ_s)) # Incidence Angle\n",
    "\n",
    "    # Convert all relevant outputs back to degrees \n",
    "    δ = rad2deg(δ)\n",
    "    ω = rad2deg(ω)\n",
    "    α = rad2deg(α)\n",
    "    γ_s = rad2deg(γ_s )\n",
    "    θ_i = rad2deg(θ_i)\n",
    "\n",
    "    # Return all outputs\n",
    "    return δ, ω, α, γ_s, θ_i\n",
    "end\n",
    "\n",
    "### Solar Insolation - Direct, Diffuse, Reflected\n",
    "function solar_insolation(N, L, β, K_t, ρ, H)\n",
    "    # Convert relevant inputs into radians \n",
    "    L = deg2rad(L)\n",
    "    β = deg2rad(β)\n",
    "\n",
    "    # Calculate ratio of diffuse insolation to global insolation\n",
    "    ratio_diffuse_global = 1.39-4.03(K_t)+5.53(K_t)^2-3.11(K_t)^3 \n",
    "\n",
    "    # Calculate sunset hour angle based on N\n",
    "    δ = 23.45(sin(deg2rad(360(284+N))/365)) # Declination Angle\n",
    "    δ = deg2rad(δ)\n",
    "    if N >= 79 && N <= 265\n",
    "        ω_s = min(acos(-tan(L)*tan(δ)), acos(-tan(L-β)*tan(δ)))\n",
    "    else \n",
    "        ω_s = acos(-tan(L)*tan(δ))\n",
    "    end\n",
    "\n",
    "    # Ratio of Beam at Angle to Beam onto Horizontal Surface\n",
    "    R_b=(cos(L-β)*cos(δ)*sin(ω_s)+ω_s*sin(L-β)sin(δ))/(cos(L)*cos(δ)*sin(ω_s)+ω_s*sin(L)*sin(δ))\n",
    "\n",
    "    # Calculate direct, diffuse, and reflected insolation\n",
    "    Direct = (1-ratio_diffuse_global)*R_b\n",
    "    Diffuse = (ratio_diffuse_global)*(1+cos(β))/2\n",
    "    Reflected = ρ*(1-cos(β))/2\n",
    "\n",
    "    # Calcuate ratio of global insolation at angle to horizontal\n",
    "    Incident = Direct+Diffuse+Reflected\n",
    "    \n",
    "    # Calculate total insolation onto angled surface at angle β [Energy/Area]\n",
    "    H_t = H*Incident\n",
    "\n",
    "    # Return all outputs \n",
    "    ω_s = rad2deg(ω_s)\n",
    "    return ω_s, R_b, H_t\n",
    "end\n",
    "\n",
    "# Test Cases - Verified  \n",
    "solar_geometry(121, 42.4, 6, 25, 0)\n",
    "solar_insolation(166, 39.1, 30, 0.704, 0.2, 27.01)\n"
   ]
  },
  {
   "cell_type": "code",
   "execution_count": 30,
   "metadata": {},
   "outputs": [
    {
     "data": {
      "text/html": [
       "<div><div style = \"float: left;\"><span>11×3 DataFrame</span></div><div style = \"clear: both;\"></div></div><div class = \"data-frame\" style = \"overflow-x: scroll;\"><table class = \"data-frame\" style = \"margin-bottom: 6px;\"><thead><tr class = \"header\"><th class = \"rowNumber\" style = \"font-weight: bold; text-align: right;\">Row</th><th style = \"text-align: left;\">Buildings</th><th style = \"text-align: left;\">Annual_Demand_kWh</th><th style = \"text-align: left;\">Rooftop_Area</th></tr><tr class = \"subheader headerLastRow\"><th class = \"rowNumber\" style = \"font-weight: bold; text-align: right;\"></th><th title = \"String\" style = \"text-align: left;\">String</th><th title = \"Float64\" style = \"text-align: left;\">Float64</th><th title = \"Float64\" style = \"text-align: left;\">Float64</th></tr></thead><tbody><tr><td class = \"rowNumber\" style = \"font-weight: bold; text-align: right;\">1</td><td style = \"text-align: left;\">Bard</td><td style = \"text-align: right;\">30472.8</td><td style = \"text-align: right;\">1060.34</td></tr><tr><td class = \"rowNumber\" style = \"font-weight: bold; text-align: right;\">2</td><td style = \"text-align: left;\">Carpenter</td><td style = \"text-align: right;\">15508.6</td><td style = \"text-align: right;\">1670.21</td></tr><tr><td class = \"rowNumber\" style = \"font-weight: bold; text-align: right;\">3</td><td style = \"text-align: left;\">Duffield</td><td style = \"text-align: right;\">333403.0</td><td style = \"text-align: right;\">1971.78</td></tr><tr><td class = \"rowNumber\" style = \"font-weight: bold; text-align: right;\">4</td><td style = \"text-align: left;\">Hollister</td><td style = \"text-align: right;\">41875.3</td><td style = \"text-align: right;\">1965.75</td></tr><tr><td class = \"rowNumber\" style = \"font-weight: bold; text-align: right;\">5</td><td style = \"text-align: left;\">Kimball</td><td style = \"text-align: right;\">121797.0</td><td style = \"text-align: right;\">956.47</td></tr><tr><td class = \"rowNumber\" style = \"font-weight: bold; text-align: right;\">6</td><td style = \"text-align: left;\">Olin</td><td style = \"text-align: right;\">91384.0</td><td style = \"text-align: right;\">1529.58</td></tr><tr><td class = \"rowNumber\" style = \"font-weight: bold; text-align: right;\">7</td><td style = \"text-align: left;\">Phillips</td><td style = \"text-align: right;\">10857.3</td><td style = \"text-align: right;\">1665.13</td></tr><tr><td class = \"rowNumber\" style = \"font-weight: bold; text-align: right;\">8</td><td style = \"text-align: left;\">Snee</td><td style = \"text-align: right;\">43301.0</td><td style = \"text-align: right;\">1680.23</td></tr><tr><td class = \"rowNumber\" style = \"font-weight: bold; text-align: right;\">9</td><td style = \"text-align: left;\">Rhodes</td><td style = \"text-align: right;\">40800.7</td><td style = \"text-align: right;\">3824.18</td></tr><tr><td class = \"rowNumber\" style = \"font-weight: bold; text-align: right;\">10</td><td style = \"text-align: left;\">Upson</td><td style = \"text-align: right;\">3376.65</td><td style = \"text-align: right;\">2176.19</td></tr><tr><td class = \"rowNumber\" style = \"font-weight: bold; text-align: right;\">11</td><td style = \"text-align: left;\">Ward</td><td style = \"text-align: right;\">12168.2</td><td style = \"text-align: right;\">1033.94</td></tr></tbody></table></div>"
      ],
      "text/latex": [
       "\\begin{tabular}{r|ccc}\n",
       "\t& Buildings & Annual\\_Demand\\_kWh & Rooftop\\_Area\\\\\n",
       "\t\\hline\n",
       "\t& String & Float64 & Float64\\\\\n",
       "\t\\hline\n",
       "\t1 & Bard & 30472.8 & 1060.34 \\\\\n",
       "\t2 & Carpenter & 15508.6 & 1670.21 \\\\\n",
       "\t3 & Duffield & 333403.0 & 1971.78 \\\\\n",
       "\t4 & Hollister & 41875.3 & 1965.75 \\\\\n",
       "\t5 & Kimball & 121797.0 & 956.47 \\\\\n",
       "\t6 & Olin & 91384.0 & 1529.58 \\\\\n",
       "\t7 & Phillips & 10857.3 & 1665.13 \\\\\n",
       "\t8 & Snee & 43301.0 & 1680.23 \\\\\n",
       "\t9 & Rhodes & 40800.7 & 3824.18 \\\\\n",
       "\t10 & Upson & 3376.65 & 2176.19 \\\\\n",
       "\t11 & Ward & 12168.2 & 1033.94 \\\\\n",
       "\\end{tabular}\n"
      ],
      "text/plain": [
       "\u001b[1m11×3 DataFrame\u001b[0m\n",
       "\u001b[1m Row \u001b[0m│\u001b[1m Buildings \u001b[0m\u001b[1m Annual_Demand_kWh \u001b[0m\u001b[1m Rooftop_Area \u001b[0m\n",
       "     │\u001b[90m String    \u001b[0m\u001b[90m Float64           \u001b[0m\u001b[90m Float64      \u001b[0m\n",
       "─────┼────────────────────────────────────────────\n",
       "   1 │ Bard                30472.8        1060.34\n",
       "   2 │ Carpenter           15508.6        1670.21\n",
       "   3 │ Duffield           333403.0        1971.78\n",
       "   4 │ Hollister           41875.3        1965.75\n",
       "   5 │ Kimball            121797.0         956.47\n",
       "   6 │ Olin                91384.0        1529.58\n",
       "   7 │ Phillips            10857.3        1665.13\n",
       "   8 │ Snee                43301.0        1680.23\n",
       "   9 │ Rhodes              40800.7        3824.18\n",
       "  10 │ Upson                3376.65       2176.19\n",
       "  11 │ Ward                12168.2        1033.94"
      ]
     },
     "metadata": {},
     "output_type": "display_data"
    }
   ],
   "source": [
    "using CSV\n",
    "using DataFrames\n",
    "\n",
    "### Annual Energy Demand\n",
    "bard = DataFrame(CSV.File(\"BardElectricData.csv\"));\n",
    "bardDemand = sum(bard.Data[1:end]);\n",
    "carpenter = DataFrame(CSV.File(\"CarpenterElectricData.csv\"));\n",
    "carpenterDemand = sum(carpenter.Data[1:end]);\n",
    "duffield = DataFrame(CSV.File(\"DuffieldElectricData.csv\"));\n",
    "duffieldDemand = sum(duffield.Data[1:end]);\n",
    "hollister = DataFrame(CSV.File(\"HollisterElectricData.csv\"));\n",
    "hollisterDemand = sum(hollister.Data[1:end]);\n",
    "kimball = DataFrame(CSV.File(\"KimballElectricData.csv\"));\n",
    "kimballDemand = sum(kimball.Data[1:end]);\n",
    "olin = DataFrame(CSV.File(\"OlinElectricData.csv\"));\n",
    "olinDemand = sum(olin.Data[1:end]);\n",
    "phillips = DataFrame(CSV.File(\"PhillipsElectricData.csv\"));\n",
    "phillipsDemand = sum(phillips.Data[1:end]);\n",
    "snee = DataFrame(CSV.File(\"SneeElectricData.csv\"));\n",
    "sneeDemand = sum(snee.Data[1:end]);\n",
    "rhodes = DataFrame(CSV.File(\"RhodeElectricData.csv\"));\n",
    "rhodesDemand = sum(rhodes.Data[1:end]);\n",
    "upson = DataFrame(CSV.File(\"UpsonElectricData.csv\"));\n",
    "upsonDemand = sum(upson.Data[1:end]);\n",
    "ward = DataFrame(CSV.File(\"WardElectricData.csv\"));\n",
    "wardDemand = sum(ward.Data[1:end]);\n",
    "\n",
    "### Rooftop Area (in meters)\n",
    "bardArea = 1060.34;\n",
    "carpenterArea = 1670.21;\n",
    "duffieldArea = 1971.78;\n",
    "hollisterArea = 1965.75;\n",
    "kimballArea = 956.47;\n",
    "olinArea = 1529.58;\n",
    "phillipsArea = 1665.13;\n",
    "sneeArea = 1680.23;\n",
    "rhodesArea = 3824.18;\n",
    "upsonArea = 2176.19;\n",
    "wardArea = 1033.94;\n",
    "\n",
    "### Create dataframe for values \n",
    "Buildings = [\"Bard\", \"Carpenter\", \"Duffield\", \"Hollister\", \"Kimball\", \"Olin\", \"Phillips\", \"Snee\", \"Rhodes\", \"Upson\", \"Ward\"]\n",
    "Demand = [bardDemand, carpenterDemand, duffieldDemand, hollisterDemand, kimballDemand, olinDemand, phillipsDemand, sneeDemand, rhodesDemand, upsonDemand, wardDemand]\n",
    "Area = [bardArea, carpenterArea, duffieldArea, hollisterArea, kimballArea, olinArea, phillipsArea, sneeArea, rhodesArea, upsonArea, wardArea]\n",
    "EngQuad = DataFrame(Buildings = Buildings, Annual_Demand_kWh = Demand, Rooftop_Area = Area)\n"
   ]
  },
  {
   "cell_type": "markdown",
   "metadata": {},
   "source": [
    "#### Future Steps \n",
    "- Assume beta, L, K_t, rho, H, gamma \n",
    "- Create data frame for N (1:365)\n"
   ]
  }
 ],
 "metadata": {
  "kernelspec": {
   "display_name": "Julia 1.9.2",
   "language": "julia",
   "name": "julia-1.9"
  },
  "language_info": {
   "file_extension": ".jl",
   "mimetype": "application/julia",
   "name": "julia",
   "version": "1.9.2"
  },
  "orig_nbformat": 4
 },
 "nbformat": 4,
 "nbformat_minor": 2
}
