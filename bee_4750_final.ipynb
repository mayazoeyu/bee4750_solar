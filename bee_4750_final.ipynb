{
 "cells": [
  {
   "cell_type": "markdown",
   "metadata": {},
   "source": [
    "# BEE 4750 Final Project: Solar Photovoltaic Feasibility Study on Cornell's Engineering Quadrangle\n",
    "\n",
    "**Names**: Sitara Sastry, Maya Zoe Yu\n",
    "\n",
    "**ID**: sls496, mzy3\n",
    "\n",
    "> **Introduction**\n",
    ">\n",
    "> The following model will conduct a feasibility study of solar energy production on Cornell's Engineering Quadrangle. As Cornell’s Climate Action Plan seeks to have Cornell’s Ithaca campus carbon neutral by 2035 through utilizing 100% renewable energy, the proposed research will analyze if solar energy would help to achieve these goals. As such, the study will analyze how Cornell can invest in solar photovoltaics (PV) to increase this percentage – focusing mainly on the Engineering Quadrangle. In addition, the model will analyze the theoretical production of solar rooftop PV systems while optimzing cost. \n"
   ]
  },
  {
   "cell_type": "code",
   "execution_count": 9,
   "metadata": {},
   "outputs": [
    {
     "name": "stderr",
     "output_type": "stream",
     "text": [
      "\u001b[32m\u001b[1m  Activating\u001b[22m\u001b[39m project at `c:\\Users\\Sitara Sastry\\.julia\\bee4750_solar`"
     ]
    },
    {
     "name": "stderr",
     "output_type": "stream",
     "text": [
      "\n"
     ]
    },
    {
     "name": "stderr",
     "output_type": "stream",
     "text": [
      "\u001b[32m\u001b[1m   Resolving\u001b[22m\u001b[39m package versions..."
     ]
    },
    {
     "name": "stderr",
     "output_type": "stream",
     "text": [
      "\n",
      "\u001b[32m\u001b[1m  No Changes\u001b[22m\u001b[39m to `C:\\Users\\Sitara Sastry\\.julia\\bee4750_solar\\Project.toml`\n",
      "\u001b[32m\u001b[1m  No Changes\u001b[22m\u001b[39m to `C:\\Users\\Sitara Sastry\\.julia\\bee4750_solar\\Manifest.toml`\n"
     ]
    },
    {
     "name": "stderr",
     "output_type": "stream",
     "text": [
      "\u001b[32m\u001b[1m   Resolving\u001b[22m\u001b[39m package versions..."
     ]
    },
    {
     "name": "stderr",
     "output_type": "stream",
     "text": [
      "\n",
      "\u001b[32m\u001b[1m  No Changes\u001b[22m\u001b[39m to `C:\\Users\\Sitara Sastry\\.julia\\bee4750_solar\\Project.toml`\n",
      "\u001b[32m\u001b[1m  No Changes\u001b[22m\u001b[39m to `C:\\Users\\Sitara Sastry\\.julia\\bee4750_solar\\Manifest.toml`"
     ]
    },
    {
     "name": "stderr",
     "output_type": "stream",
     "text": [
      "\n"
     ]
    },
    {
     "name": "stderr",
     "output_type": "stream",
     "text": [
      "\u001b[32m\u001b[1m   Resolving\u001b[22m\u001b[39m package versions..."
     ]
    },
    {
     "name": "stderr",
     "output_type": "stream",
     "text": [
      "\n",
      "\u001b[32m\u001b[1m  No Changes\u001b[22m\u001b[39m to `C:\\Users\\Sitara Sastry\\.julia\\bee4750_solar\\Project.toml`\n",
      "\u001b[32m\u001b[1m  No Changes\u001b[22m\u001b[39m to `C:\\Users\\Sitara Sastry\\.julia\\bee4750_solar\\Manifest.toml`\n"
     ]
    },
    {
     "name": "stderr",
     "output_type": "stream",
     "text": [
      "\u001b[32m\u001b[1m   Resolving\u001b[22m\u001b[39m package versions..."
     ]
    },
    {
     "name": "stderr",
     "output_type": "stream",
     "text": [
      "\n"
     ]
    },
    {
     "name": "stderr",
     "output_type": "stream",
     "text": [
      "\u001b[32m\u001b[1m   Installed\u001b[22m\u001b[39m FilePathsBase ─ v0.9.21\n"
     ]
    },
    {
     "name": "stderr",
     "output_type": "stream",
     "text": [
      "\u001b[32m\u001b[1m    Updating\u001b[22m\u001b[39m `C:\\Users\\Sitara Sastry\\.julia\\bee4750_solar\\Project.toml`\n",
      "  \u001b[90m[336ed68f] \u001b[39m\u001b[92m+ CSV v0.10.11\u001b[39m\n",
      "\u001b[32m\u001b[1m    Updating\u001b[22m\u001b[39m `C:\\Users\\Sitara Sastry\\.julia\\bee4750_solar\\Manifest.toml`\n"
     ]
    },
    {
     "name": "stderr",
     "output_type": "stream",
     "text": [
      "  \u001b[90m[336ed68f] \u001b[39m\u001b[92m+ CSV v0.10.11\u001b[39m\n",
      "  \u001b[90m[48062228] \u001b[39m\u001b[92m+ FilePathsBase v0.9.21\u001b[39m\n",
      "  \u001b[90m[ea10d353] \u001b[39m\u001b[92m+ WeakRefStrings v1.4.2\u001b[39m\n",
      "  \u001b[90m[76eceee3] \u001b[39m\u001b[92m+ WorkerUtilities v1.6.1\u001b[39m\n"
     ]
    },
    {
     "name": "stderr",
     "output_type": "stream",
     "text": [
      "\u001b[32m\u001b[1mPrecompiling\u001b[22m\u001b[39m"
     ]
    },
    {
     "name": "stderr",
     "output_type": "stream",
     "text": [
      " "
     ]
    },
    {
     "name": "stderr",
     "output_type": "stream",
     "text": [
      "project...\n"
     ]
    },
    {
     "name": "stderr",
     "output_type": "stream",
     "text": [
      "\u001b[32m  ✓ \u001b[39m\u001b[90mFilePathsBase\u001b[39m\n"
     ]
    },
    {
     "name": "stderr",
     "output_type": "stream",
     "text": [
      "\u001b[32m  ✓ \u001b[39mCSV\n",
      "  2 dependencies successfully precompiled in 30 seconds. 217 already precompiled.\n",
      "\u001b[32m\u001b[1m   Resolving\u001b[22m\u001b[39m package versions...\n"
     ]
    },
    {
     "name": "stderr",
     "output_type": "stream",
     "text": [
      "\u001b[32m\u001b[1m  No Changes\u001b[22m\u001b[39m to `C:\\Users\\Sitara Sastry\\.julia\\bee4750_solar\\Project.toml`\n",
      "\u001b[32m\u001b[1m  No Changes\u001b[22m\u001b[39m to `C:\\Users\\Sitara Sastry\\.julia\\bee4750_solar\\Manifest.toml`"
     ]
    },
    {
     "name": "stderr",
     "output_type": "stream",
     "text": [
      "\n"
     ]
    },
    {
     "name": "stderr",
     "output_type": "stream",
     "text": [
      "\u001b[32m\u001b[1m   Resolving\u001b[22m\u001b[39m package versions..."
     ]
    },
    {
     "name": "stderr",
     "output_type": "stream",
     "text": [
      "\n",
      "\u001b[32m\u001b[1m  No Changes\u001b[22m\u001b[39m to `C:\\Users\\Sitara Sastry\\.julia\\bee4750_solar\\Project.toml`\n",
      "\u001b[32m\u001b[1m  No Changes\u001b[22m\u001b[39m to `C:\\Users\\Sitara Sastry\\.julia\\bee4750_solar\\Manifest.toml`"
     ]
    },
    {
     "name": "stderr",
     "output_type": "stream",
     "text": [
      "\n"
     ]
    },
    {
     "name": "stderr",
     "output_type": "stream",
     "text": [
      "\u001b[32m\u001b[1m   Resolving\u001b[22m\u001b[39m package versions..."
     ]
    },
    {
     "name": "stderr",
     "output_type": "stream",
     "text": [
      "\n",
      "\u001b[32m\u001b[1m  No Changes\u001b[22m\u001b[39m to `C:\\Users\\Sitara Sastry\\.julia\\bee4750_solar\\Project.toml`\n",
      "\u001b[32m\u001b[1m  No Changes\u001b[22m\u001b[39m to `C:\\Users\\Sitara Sastry\\.julia\\bee4750_solar\\Manifest.toml`"
     ]
    },
    {
     "name": "stderr",
     "output_type": "stream",
     "text": [
      "\n"
     ]
    },
    {
     "name": "stderr",
     "output_type": "stream",
     "text": [
      "\u001b[32m\u001b[1m   Resolving\u001b[22m\u001b[39m package versions...\n",
      "\u001b[32m\u001b[1m  No Changes\u001b[22m\u001b[39m to `C:\\Users\\Sitara Sastry\\.julia\\bee4750_solar\\Project.toml`\n",
      "\u001b[32m\u001b[1m  No Changes\u001b[22m\u001b[39m to `C:\\Users\\Sitara Sastry\\.julia\\bee4750_solar\\Manifest.toml`\n"
     ]
    }
   ],
   "source": [
    "import Pkg\n",
    "Pkg.activate(@__DIR__)\n",
    "Pkg.instantiate()\n",
    "\n",
    "Pkg.add(\"JuMP\")\n",
    "Pkg.add(\"HiGHS\")\n",
    "Pkg.add(\"DataFrames\")\n",
    "Pkg.add(\"CSV\")\n",
    "Pkg.add(\"GraphRecipes\")\n",
    "Pkg.add(\"Plots\")\n",
    "Pkg.add(\"Measures\")\n",
    "Pkg.add(\"MarkdownTables\")"
   ]
  },
  {
   "cell_type": "markdown",
   "metadata": {},
   "source": [
    "### Theoretical Solar Output Model"
   ]
  },
  {
   "cell_type": "markdown",
   "metadata": {},
   "source": [
    "#### Electricity Demand for Cornell's Engineering Quad\n",
    "Cornell's Engineering Quadrangle encompasses the following buildings: Olin Hall, Carpenter Hall, Duffield Hall, Phillips Hall, Rhodes Hall, Upson Hall, Kimball Hall, Bard Hall, Snee Hall, Hollister Hall, and Ward Hall. The yearly electricity demand for these buildings may be found through the following: "
   ]
  },
  {
   "cell_type": "code",
   "execution_count": 1,
   "metadata": {},
   "outputs": [
    {
     "data": {
      "text/plain": [
       "solar_insolation (generic function with 1 method)"
      ]
     },
     "metadata": {},
     "output_type": "display_data"
    }
   ],
   "source": [
    "### Solar Geometry Function\n",
    "function solar_geometry(N, L, H, β, γ)\n",
    "    # Convert relevant inputs into radians \n",
    "    L = deg2rad(L)\n",
    "    β = deg2rad(β)\n",
    "    γ = deg2rad(γ)\n",
    "\n",
    "    # Calculate all relevant solar geometry angles \n",
    "    δ = 23.45(sin(deg2rad(360(284+N))/365)) # Declination Angle\n",
    "    ω = ((H-12)*15) # Hour Angle \n",
    "    δ = deg2rad(δ)\n",
    "    ω = deg2rad(ω)\n",
    "    α = asin(sin(δ)*sin(L)+cos(δ)*cos(L)*cos(ω)) # Solar Altitude Angle\n",
    "    γ_s = asin((cos(δ)*sin(ω))/cos(α)) # Solar Azimuth Angle\n",
    "    θ_i = acos(sin(α)*cos(β)+cos(α)*sin(β)*cos(γ-γ_s)) # Incidence Angle\n",
    "\n",
    "    # Convert all relevant outputs back to degrees \n",
    "    δ = rad2deg(δ)\n",
    "    ω = rad2deg(ω)\n",
    "    α = rad2deg(α)\n",
    "    γ_s = rad2deg(γ_s )\n",
    "    θ_i = rad2deg(θ_i)\n",
    "\n",
    "    # Return all outputs\n",
    "    return δ, ω, α, γ_s, θ_i\n",
    "end\n",
    "\n",
    "### Solar Insolation - Direct, Diffuse, Reflected\n",
    "function solar_insolation(N, L, β, K_t, ρ, H)\n",
    "    ratio_diffuse_global = 1.39-4.03(K_t)+5.53(K_t)^2-3.11(K_t)^3 # Ratio of Diffuse to Global Insolation\n",
    "    # Calculate sunset hour angle based on N\n",
    "    if N >= 79 && N <= 265\n",
    "        ω_s = min(acos(-tan(L)*tan(δ)), acos(-tan(L-β)*tan(δ)))\n",
    "    else \n",
    "        ω_s = acos(-tan(L)*tan(δ))\n",
    "    end\n",
    "    # Ratio of Beam at Angle to Beam onto Horizontal Surface\n",
    "    R_{b,β}=[cos(L-β)cos(δ)sin(ω_s)+ω_ssin(L-β)sin(δ)]/[cos(L)cos(δ)sin(ω_s)+ω_ssin(L)sin(δ)] \n",
    "    # Calculate direct, diffuse, and reflected insolation\n",
    "    Direct = (1-ratio_diffuse_global)R_{b,β}\n",
    "    Diffuse = (ratio_diffuse_global)[1+cos(β)]/2\n",
    "    Reflected = ρ(1-cos(β))/2\n",
    "    # Calcuate ratio of global insolation at angle to horizontal\n",
    "    R = Direct+Diffuse+Reflected\n",
    "    # Calculate total insolation onto angled surface at angle β [Energy/Area]\n",
    "    H_t = H(R)\n",
    "end\n"
   ]
  },
  {
   "cell_type": "code",
   "execution_count": 34,
   "metadata": {},
   "outputs": [],
   "source": [
    "using CSV\n",
    "using DataFrames\n",
    "\n",
    "### Annual Energy Demand\n",
    "bard = DataFrame(CSV.File(\"BardElectricData.csv\"));\n",
    "bardDemand = sum(bard.Data[1:end]);\n",
    "carpenter = DataFrame(CSV.File(\"CarpenterElectricData.csv\"));\n",
    "carpenterDemand = sum(carpenter.Data[1:end]);\n",
    "duffield = DataFrame(CSV.File(\"DuffieldElectricData.csv\"));\n",
    "duffieldDemand = sum(duffield.Data[1:end]);\n",
    "hollister = DataFrame(CSV.File(\"HollisterElectricData.csv\"));\n",
    "hollisterDemand = sum(hollister.Data[1:end]);\n",
    "kimball = DataFrame(CSV.File(\"KimballElectricData.csv\"));\n",
    "kimballDemand = sum(kimball.Data[1:end]);\n",
    "olin = DataFrame(CSV.File(\"OlinElectricData.csv\"));\n",
    "olinDemand = sum(olin.Data[1:end]);\n",
    "phillips = DataFrame(CSV.File(\"PhillipsElectricData.csv\"));\n",
    "phillipsDemand = sum(phillips.Data[1:end]);\n",
    "snee = DataFrame(CSV.File(\"SneeElectricData.csv\"));\n",
    "sneeDemand = sum(snee.Data[1:end]);\n",
    "rhodes = DataFrame(CSV.File(\"RhodeElectricData.csv\"));\n",
    "rhodesDemand = sum(rhodes.Data[1:end]);\n",
    "upson = DataFrame(CSV.File(\"UpsonElectricData.csv\"));\n",
    "upsonDemand = sum(upson.Data[1:end]);\n",
    "ward = DataFrame(CSV.File(\"WardElectricData.csv\"));\n",
    "wardDemand = sum(ward.Data[1:end]);\n",
    "\n",
    "### Rooftop Area (in meters)\n",
    "bardArea = 1060.34;\n",
    "carpenterArea = 1670.21;\n",
    "duffieldArea = 1971.78;\n",
    "hollisterArea = 1965.75;\n",
    "kimballArea = 956.47;\n",
    "olinArea = 1529.58;\n",
    "phillipsArea = 1665.13;\n",
    "sneeArea = 1680.23;\n",
    "rhodesArea = 3824.18;\n",
    "upsonArea = 2176.19;\n",
    "wardArea = 1033.94;"
   ]
  },
  {
   "cell_type": "markdown",
   "metadata": {},
   "source": [
    "#### Future Steps \n",
    "- Assume beta, L, K_t, rho, H, gamma \n",
    "- Create data frame for N (1:365)\n"
   ]
  }
 ],
 "metadata": {
  "kernelspec": {
   "display_name": "Julia 1.9.2",
   "language": "julia",
   "name": "julia-1.9"
  },
  "language_info": {
   "file_extension": ".jl",
   "mimetype": "application/julia",
   "name": "julia",
   "version": "1.9.2"
  },
  "orig_nbformat": 4
 },
 "nbformat": 4,
 "nbformat_minor": 2
}
