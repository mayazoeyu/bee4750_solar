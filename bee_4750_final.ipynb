{
 "cells": [
  {
   "cell_type": "markdown",
   "metadata": {},
   "source": [
    "# BEE 4750 Final Project: Solar Photovoltaic Feasibility Study on Cornell's Engineering Quadrangle\n",
    "\n",
    "**Names**: Sitara Sastry, Maya Zoe Yu\n",
    "\n",
    "**ID**: sls496, mzy3\n",
    "\n",
    "> **Introduction**\n",
    ">\n",
    "> The following model will conduct a feasibility study of solar energy production on Cornell's Engineering Quadrangle. As Cornell’s Climate Action Plan seeks to have Cornell’s Ithaca campus carbon neutral by 2035 through utilizing 100% renewable energy, the proposed research will analyze if solar energy would help to achieve these goals. As such, the study will analyze how Cornell can invest in solar photovoltaics (PV) to increase this percentage – focusing mainly on the Engineering Quadrangle. In addition, the model will analyze the theoretical production of solar rooftop PV systems while optimzing cost. \n"
   ]
  },
  {
   "cell_type": "code",
   "execution_count": 2,
   "metadata": {},
   "outputs": [
    {
     "name": "stderr",
     "output_type": "stream",
     "text": [
      "\u001b[32m\u001b[1m  Activating\u001b[22m\u001b[39m project at `~/BEE 4750/bee4750_solar`\n"
     ]
    },
    {
     "name": "stderr",
     "output_type": "stream",
     "text": [
      "\u001b[32m\u001b[1m    Updating\u001b[22m\u001b[39m registry at `~/.julia/registries/General.toml`\n"
     ]
    },
    {
     "name": "stderr",
     "output_type": "stream",
     "text": [
      "\u001b[32m\u001b[1m   Resolving\u001b[22m\u001b[39m package versions...\n"
     ]
    },
    {
     "name": "stderr",
     "output_type": "stream",
     "text": [
      "\u001b[32m\u001b[1m  No Changes\u001b[22m\u001b[39m to `~/BEE 4750/bee4750_solar/Project.toml`\n",
      "\u001b[32m\u001b[1m  No Changes\u001b[22m\u001b[39m to `~/BEE 4750/bee4750_solar/Manifest.toml`\n"
     ]
    },
    {
     "name": "stderr",
     "output_type": "stream",
     "text": [
      "\u001b[32m\u001b[1m   Resolving\u001b[22m\u001b[39m package versions...\n"
     ]
    },
    {
     "name": "stderr",
     "output_type": "stream",
     "text": [
      "\u001b[32m\u001b[1m  No Changes\u001b[22m\u001b[39m to `~/BEE 4750/bee4750_solar/Project.toml`\n",
      "\u001b[32m\u001b[1m  No Changes\u001b[22m\u001b[39m to `~/BEE 4750/bee4750_solar/Manifest.toml`\n"
     ]
    },
    {
     "name": "stderr",
     "output_type": "stream",
     "text": [
      "\u001b[32m\u001b[1m   Resolving\u001b[22m\u001b[39m package versions...\n"
     ]
    },
    {
     "name": "stderr",
     "output_type": "stream",
     "text": [
      "\u001b[32m\u001b[1m  No Changes\u001b[22m\u001b[39m to `~/BEE 4750/bee4750_solar/Project.toml`\n",
      "\u001b[32m\u001b[1m  No Changes\u001b[22m\u001b[39m to `~/BEE 4750/bee4750_solar/Manifest.toml`\n"
     ]
    },
    {
     "name": "stderr",
     "output_type": "stream",
     "text": [
      "\u001b[32m\u001b[1m   Resolving\u001b[22m\u001b[39m package versions...\n"
     ]
    },
    {
     "name": "stderr",
     "output_type": "stream",
     "text": [
      "\u001b[32m\u001b[1m  No Changes\u001b[22m\u001b[39m to `~/BEE 4750/bee4750_solar/Project.toml`\n",
      "\u001b[32m\u001b[1m  No Changes\u001b[22m\u001b[39m to `~/BEE 4750/bee4750_solar/Manifest.toml`\n"
     ]
    },
    {
     "name": "stderr",
     "output_type": "stream",
     "text": [
      "\u001b[32m\u001b[1m   Resolving\u001b[22m\u001b[39m package versions...\n"
     ]
    },
    {
     "name": "stderr",
     "output_type": "stream",
     "text": [
      "\u001b[32m\u001b[1m  No Changes\u001b[22m\u001b[39m to `~/BEE 4750/bee4750_solar/Project.toml`\n",
      "\u001b[32m\u001b[1m  No Changes\u001b[22m\u001b[39m to `~/BEE 4750/bee4750_solar/Manifest.toml`\n"
     ]
    },
    {
     "name": "stderr",
     "output_type": "stream",
     "text": [
      "\u001b[32m\u001b[1m   Resolving\u001b[22m\u001b[39m package versions...\n"
     ]
    },
    {
     "name": "stderr",
     "output_type": "stream",
     "text": [
      "\u001b[32m\u001b[1m  No Changes\u001b[22m\u001b[39m to `~/BEE 4750/bee4750_solar/Project.toml`\n",
      "\u001b[32m\u001b[1m  No Changes\u001b[22m\u001b[39m to `~/BEE 4750/bee4750_solar/Manifest.toml`\n"
     ]
    },
    {
     "name": "stderr",
     "output_type": "stream",
     "text": [
      "\u001b[32m\u001b[1m   Resolving\u001b[22m\u001b[39m package versions...\n"
     ]
    },
    {
     "name": "stderr",
     "output_type": "stream",
     "text": [
      "\u001b[32m\u001b[1m  No Changes\u001b[22m\u001b[39m to `~/BEE 4750/bee4750_solar/Project.toml`\n",
      "\u001b[32m\u001b[1m  No Changes\u001b[22m\u001b[39m to `~/BEE 4750/bee4750_solar/Manifest.toml`\n"
     ]
    },
    {
     "name": "stderr",
     "output_type": "stream",
     "text": [
      "\u001b[32m\u001b[1m   Resolving\u001b[22m\u001b[39m package versions...\n"
     ]
    },
    {
     "name": "stderr",
     "output_type": "stream",
     "text": [
      "\u001b[32m\u001b[1m  No Changes\u001b[22m\u001b[39m to `~/BEE 4750/bee4750_solar/Project.toml`\n",
      "\u001b[32m\u001b[1m  No Changes\u001b[22m\u001b[39m to `~/BEE 4750/bee4750_solar/Manifest.toml`\n"
     ]
    }
   ],
   "source": [
    "import Pkg\n",
    "Pkg.activate(@__DIR__)\n",
    "Pkg.instantiate()\n",
    "\n",
    "Pkg.add(\"JuMP\")\n",
    "Pkg.add(\"HiGHS\")\n",
    "Pkg.add(\"DataFrames\")\n",
    "Pkg.add(\"CSV\")\n",
    "Pkg.add(\"GraphRecipes\")\n",
    "Pkg.add(\"Plots\")\n",
    "Pkg.add(\"Measures\")\n",
    "Pkg.add(\"MarkdownTables\")"
   ]
  },
  {
   "cell_type": "markdown",
   "metadata": {},
   "source": [
    "### Theoretical Solar Output Model"
   ]
  },
  {
   "cell_type": "markdown",
   "metadata": {},
   "source": []
  },
  {
   "cell_type": "code",
   "execution_count": 35,
   "metadata": {},
   "outputs": [
    {
     "data": {
      "text/plain": [
       "365-element Vector{Float64}:\n",
       " 1.4613566053535014\n",
       " 1.460249085096764\n",
       " 1.4590563505658167\n",
       " 1.4577804875285045\n",
       " 1.4564236975574734\n",
       " 1.454988288569419\n",
       " 1.4534766651217763\n",
       " 1.451891318538951\n",
       " 1.4502348169389427\n",
       " 1.448509795229199\n",
       " ⋮\n",
       " 1.0979325929948465\n",
       " 1.0977584931212518\n",
       " 1.0975215712847057\n",
       " 1.0972222741162394\n",
       " 1.0968611634027623\n",
       " 1.096438913353617\n",
       " 1.0959563073452088\n",
       " 1.0954142341730215\n",
       " 1.0948136838443696"
      ]
     },
     "metadata": {},
     "output_type": "display_data"
    }
   ],
   "source": [
    "### Solar Geometry Function\n",
    "function solar_geometry(N, L, H, β, γ)\n",
    "    # Convert relevant inputs into radians \n",
    "    L = deg2rad(L)\n",
    "    β = deg2rad(β)\n",
    "    γ = deg2rad(γ)\n",
    "\n",
    "    # Calculate all relevant solar geometry angles \n",
    "    δ = 23.45(sin(deg2rad(360(284+N))/365)) # Declination Angle\n",
    "    ω = ((H-12)*15) # Hour Angle \n",
    "    δ = deg2rad(δ)\n",
    "    ω = deg2rad(ω)\n",
    "    α = asin(sin(δ)*sin(L)+cos(δ)*cos(L)*cos(ω)) # Solar Altitude Angle\n",
    "    γ_s = asin((cos(δ)*sin(ω))/cos(α)) # Solar Azimuth Angle\n",
    "    θ_i = acos(sin(α)*cos(β)+cos(α)*sin(β)*cos(γ-γ_s)) # Incidence Angle\n",
    "\n",
    "    # Convert all relevant outputs back to degrees \n",
    "    δ = rad2deg(δ)\n",
    "    ω = rad2deg(ω)\n",
    "    α = rad2deg(α)\n",
    "    γ_s = rad2deg(γ_s )\n",
    "    θ_i = rad2deg(θ_i)\n",
    "\n",
    "    # Return all outputs\n",
    "    return δ, ω, α, γ_s, θ_i\n",
    "end\n",
    "\n",
    "### Solar Insolation - Direct, Diffuse, Reflected\n",
    "function solar_insolation(N, L, β, K_t, ρ, H)\n",
    "    # Convert relevant inputs into radians \n",
    "    L = deg2rad(L)\n",
    "    β = deg2rad(β)\n",
    "\n",
    "    # Calculate ratio of diffuse insolation to global insolation\n",
    "    ratio_diffuse_global = 1.39-4.03(K_t)+5.53(K_t)^2-3.11(K_t)^3 \n",
    "\n",
    "    # Calculate sunset hour angle based on N\n",
    "    δ = 23.45(sin(deg2rad(360(284+N))/365)) # Declination Angle\n",
    "    δ = deg2rad(δ)\n",
    "    if N >= 79 && N <= 265\n",
    "        ω_s = min(acos(-tan(L)*tan(δ)), acos(-tan(L-β)*tan(δ)))\n",
    "    else \n",
    "        ω_s = acos(-tan(L)*tan(δ))\n",
    "    end\n",
    "\n",
    "    # Ratio of Beam at Angle to Beam onto Horizontal Surface\n",
    "    R_b=(cos(L-β)*cos(δ)*sin(ω_s)+ω_s*sin(L-β)sin(δ))/(cos(L)*cos(δ)*sin(ω_s)+ω_s*sin(L)*sin(δ))\n",
    "\n",
    "    # Calculate direct, diffuse, and reflected insolation\n",
    "    Direct = (1-ratio_diffuse_global)*R_b\n",
    "    Diffuse = (ratio_diffuse_global)*(1+cos(β))/2\n",
    "    Reflected = ρ*(1-cos(β))/2\n",
    "\n",
    "    # Calcuate ratio of global insolation at angle to horizontal\n",
    "    Incident = Direct+Diffuse+Reflected\n",
    "    \n",
    "    # Calculate total insolation onto angled surface at angle β [Energy/Area]\n",
    "    H_t = H*Incident\n",
    "\n",
    "    # Return all outputs \n",
    "    ω_s = rad2deg(ω_s)\n",
    "    return H_t\n",
    "end\n",
    "\n",
    "# Test Cases - Verified  \n",
    "solar_geometry(121, 42.4, 6, 25, 0)\n",
    "solar_insolation(166, 39.1, 30, 0.704, 0.2, 27.01)\n",
    "\n",
    "# Define relevant parameter inputs (https://www.nrel.gov/docs/legosti/old/789.pdf)\n",
    "L = 42.4\n",
    "β = 10\n",
    "N = [i for i = 1:365]\n",
    "K_t = zeros(365)\n",
    "K_t[1:31] .= 0.312\n",
    "K_t[32:59] .= 0.337\n",
    "K_t[60:90] .= 0.364\n",
    "K_t[91:120] .= 0.411\n",
    "K_t[121:151] .= 0.428\n",
    "K_t[152:181] .= 0.454\n",
    "K_t[182:212] .= 0.460\n",
    "K_t[213:243] .= 0.442\n",
    "K_t[244:273] .= 0.429\n",
    "K_t[274:304] .= 0.397\n",
    "K_t[305:334] .= 0.299 \n",
    "K_t[335:365] .= 0.269\n",
    "H = zeros(365)\n",
    "H[1:31] .= 4378\n",
    "H[32:59] .= 6535\n",
    "H[60:90] .= 9774\n",
    "H[91:120] .= 14091\n",
    "H[121:151] .= 16977\n",
    "H[152:181] .= 19082\n",
    "H[182:212] .= 18830\n",
    "H[213:243] .= 16168\n",
    "H[244:273] .= 12837\n",
    "H[274:304] .= 8843\n",
    "H[305:334] .= 4696\n",
    "H[335:365] .= 3373\n",
    "H = H ./ 3600 # Convert to kWh\n",
    "\n",
    "# Calculate insolation based on relevant parameter inputs \n",
    "insolation = zeros(365)\n",
    "for i in 1:365\n",
    "    day = N[i]\n",
    "    clearness_index = K_t[i]\n",
    "    global_insolation = H[i]\n",
    "    insolation[i] = solar_insolation(day, L, β, clearness_index, 0.2, global_insolation) # kWh/m^2\n",
    "end \n"
   ]
  },
  {
   "cell_type": "markdown",
   "metadata": {},
   "source": [
    "### Analysis of Electrical Demand and Rooftop Area Availability "
   ]
  },
  {
   "cell_type": "markdown",
   "metadata": {},
   "source": [
    "Cornell's Engineering Quadrangle encompasses the following buildings: Bard, Carpenter, Duffield, Hollister, Kimball, Olin, Phillips, Snee, Rhodes, Upson, and Ward . The yearly electricity demand and available rooftop area for these buildings may be found through the following:"
   ]
  },
  {
   "cell_type": "code",
   "execution_count": 37,
   "metadata": {},
   "outputs": [
    {
     "data": {
      "text/html": [
       "<div><div style = \"float: left;\"><span>11×4 DataFrame</span></div><div style = \"clear: both;\"></div></div><div class = \"data-frame\" style = \"overflow-x: scroll;\"><table class = \"data-frame\" style = \"margin-bottom: 6px;\"><thead><tr class = \"header\"><th class = \"rowNumber\" style = \"font-weight: bold; text-align: right;\">Row</th><th style = \"text-align: left;\">Buildings</th><th style = \"text-align: left;\">Annual_Demand_kWh</th><th style = \"text-align: left;\">Rooftop_Area</th><th style = \"text-align: left;\">Available_Area_Solar</th></tr><tr class = \"subheader headerLastRow\"><th class = \"rowNumber\" style = \"font-weight: bold; text-align: right;\"></th><th title = \"String\" style = \"text-align: left;\">String</th><th title = \"Float64\" style = \"text-align: left;\">Float64</th><th title = \"Float64\" style = \"text-align: left;\">Float64</th><th title = \"Float64\" style = \"text-align: left;\">Float64</th></tr></thead><tbody><tr><td class = \"rowNumber\" style = \"font-weight: bold; text-align: right;\">1</td><td style = \"text-align: left;\">Bard</td><td style = \"text-align: right;\">30472.8</td><td style = \"text-align: right;\">1060.34</td><td style = \"text-align: right;\">795.255</td></tr><tr><td class = \"rowNumber\" style = \"font-weight: bold; text-align: right;\">2</td><td style = \"text-align: left;\">Carpenter</td><td style = \"text-align: right;\">15508.6</td><td style = \"text-align: right;\">1670.21</td><td style = \"text-align: right;\">1252.66</td></tr><tr><td class = \"rowNumber\" style = \"font-weight: bold; text-align: right;\">3</td><td style = \"text-align: left;\">Duffield</td><td style = \"text-align: right;\">333403.0</td><td style = \"text-align: right;\">1971.78</td><td style = \"text-align: right;\">1478.84</td></tr><tr><td class = \"rowNumber\" style = \"font-weight: bold; text-align: right;\">4</td><td style = \"text-align: left;\">Hollister</td><td style = \"text-align: right;\">41875.3</td><td style = \"text-align: right;\">1965.75</td><td style = \"text-align: right;\">1474.31</td></tr><tr><td class = \"rowNumber\" style = \"font-weight: bold; text-align: right;\">5</td><td style = \"text-align: left;\">Kimball</td><td style = \"text-align: right;\">121797.0</td><td style = \"text-align: right;\">956.47</td><td style = \"text-align: right;\">717.352</td></tr><tr><td class = \"rowNumber\" style = \"font-weight: bold; text-align: right;\">6</td><td style = \"text-align: left;\">Olin</td><td style = \"text-align: right;\">91384.0</td><td style = \"text-align: right;\">1529.58</td><td style = \"text-align: right;\">1147.18</td></tr><tr><td class = \"rowNumber\" style = \"font-weight: bold; text-align: right;\">7</td><td style = \"text-align: left;\">Phillips</td><td style = \"text-align: right;\">10857.3</td><td style = \"text-align: right;\">1665.13</td><td style = \"text-align: right;\">1248.85</td></tr><tr><td class = \"rowNumber\" style = \"font-weight: bold; text-align: right;\">8</td><td style = \"text-align: left;\">Snee</td><td style = \"text-align: right;\">43301.0</td><td style = \"text-align: right;\">1680.23</td><td style = \"text-align: right;\">1260.17</td></tr><tr><td class = \"rowNumber\" style = \"font-weight: bold; text-align: right;\">9</td><td style = \"text-align: left;\">Rhodes</td><td style = \"text-align: right;\">40800.7</td><td style = \"text-align: right;\">3824.18</td><td style = \"text-align: right;\">2868.13</td></tr><tr><td class = \"rowNumber\" style = \"font-weight: bold; text-align: right;\">10</td><td style = \"text-align: left;\">Upson</td><td style = \"text-align: right;\">3376.65</td><td style = \"text-align: right;\">2176.19</td><td style = \"text-align: right;\">1632.14</td></tr><tr><td class = \"rowNumber\" style = \"font-weight: bold; text-align: right;\">11</td><td style = \"text-align: left;\">Ward</td><td style = \"text-align: right;\">12168.2</td><td style = \"text-align: right;\">1033.94</td><td style = \"text-align: right;\">775.455</td></tr></tbody></table></div>"
      ],
      "text/latex": [
       "\\begin{tabular}{r|cccc}\n",
       "\t& Buildings & Annual\\_Demand\\_kWh & Rooftop\\_Area & Available\\_Area\\_Solar\\\\\n",
       "\t\\hline\n",
       "\t& String & Float64 & Float64 & Float64\\\\\n",
       "\t\\hline\n",
       "\t1 & Bard & 30472.8 & 1060.34 & 795.255 \\\\\n",
       "\t2 & Carpenter & 15508.6 & 1670.21 & 1252.66 \\\\\n",
       "\t3 & Duffield & 333403.0 & 1971.78 & 1478.84 \\\\\n",
       "\t4 & Hollister & 41875.3 & 1965.75 & 1474.31 \\\\\n",
       "\t5 & Kimball & 121797.0 & 956.47 & 717.352 \\\\\n",
       "\t6 & Olin & 91384.0 & 1529.58 & 1147.18 \\\\\n",
       "\t7 & Phillips & 10857.3 & 1665.13 & 1248.85 \\\\\n",
       "\t8 & Snee & 43301.0 & 1680.23 & 1260.17 \\\\\n",
       "\t9 & Rhodes & 40800.7 & 3824.18 & 2868.13 \\\\\n",
       "\t10 & Upson & 3376.65 & 2176.19 & 1632.14 \\\\\n",
       "\t11 & Ward & 12168.2 & 1033.94 & 775.455 \\\\\n",
       "\\end{tabular}\n"
      ],
      "text/plain": [
       "\u001b[1m11×4 DataFrame\u001b[0m\n",
       "\u001b[1m Row \u001b[0m│\u001b[1m Buildings \u001b[0m\u001b[1m Annual_Demand_kWh \u001b[0m\u001b[1m Rooftop_Area \u001b[0m\u001b[1m Available_Area_Solar \u001b[0m\n",
       "     │\u001b[90m String    \u001b[0m\u001b[90m Float64           \u001b[0m\u001b[90m Float64      \u001b[0m\u001b[90m Float64              \u001b[0m\n",
       "─────┼──────────────────────────────────────────────────────────────────\n",
       "   1 │ Bard                30472.8        1060.34               795.255\n",
       "   2 │ Carpenter           15508.6        1670.21              1252.66\n",
       "   3 │ Duffield           333403.0        1971.78              1478.84\n",
       "   4 │ Hollister           41875.3        1965.75              1474.31\n",
       "   5 │ Kimball            121797.0         956.47               717.352\n",
       "   6 │ Olin                91384.0        1529.58              1147.18\n",
       "   7 │ Phillips            10857.3        1665.13              1248.85\n",
       "   8 │ Snee                43301.0        1680.23              1260.17\n",
       "   9 │ Rhodes              40800.7        3824.18              2868.13\n",
       "  10 │ Upson                3376.65       2176.19              1632.14\n",
       "  11 │ Ward                12168.2        1033.94               775.455"
      ]
     },
     "metadata": {},
     "output_type": "display_data"
    }
   ],
   "source": [
    "using CSV\n",
    "using DataFrames\n",
    "\n",
    "### Annual Energy Demand\n",
    "bard = DataFrame(CSV.File(\"BardElectricData.csv\"));\n",
    "bardDemand = sum(bard.Data[1:end]);\n",
    "carpenter = DataFrame(CSV.File(\"CarpenterElectricData.csv\"));\n",
    "carpenterDemand = sum(carpenter.Data[1:end]);\n",
    "duffield = DataFrame(CSV.File(\"DuffieldElectricData.csv\"));\n",
    "duffieldDemand = sum(duffield.Data[1:end]);\n",
    "hollister = DataFrame(CSV.File(\"HollisterElectricData.csv\"));\n",
    "hollisterDemand = sum(hollister.Data[1:end]);\n",
    "kimball = DataFrame(CSV.File(\"KimballElectricData.csv\"));\n",
    "kimballDemand = sum(kimball.Data[1:end]);\n",
    "olin = DataFrame(CSV.File(\"OlinElectricData.csv\"));\n",
    "olinDemand = sum(olin.Data[1:end]);\n",
    "phillips = DataFrame(CSV.File(\"PhillipsElectricData.csv\"));\n",
    "phillipsDemand = sum(phillips.Data[1:end]);\n",
    "snee = DataFrame(CSV.File(\"SneeElectricData.csv\"));\n",
    "sneeDemand = sum(snee.Data[1:end]);\n",
    "rhodes = DataFrame(CSV.File(\"RhodeElectricData.csv\"));\n",
    "rhodesDemand = sum(rhodes.Data[1:end]);\n",
    "upson = DataFrame(CSV.File(\"UpsonElectricData.csv\"));\n",
    "upsonDemand = sum(upson.Data[1:end]);\n",
    "ward = DataFrame(CSV.File(\"WardElectricData.csv\"));\n",
    "wardDemand = sum(ward.Data[1:end]);\n",
    "\n",
    "### Rooftop Area (in meters)\n",
    "bardArea = 1060.34;\n",
    "carpenterArea = 1670.21;\n",
    "duffieldArea = 1971.78;\n",
    "hollisterArea = 1965.75;\n",
    "kimballArea = 956.47;\n",
    "olinArea = 1529.58;\n",
    "phillipsArea = 1665.13;\n",
    "sneeArea = 1680.23;\n",
    "rhodesArea = 3824.18;\n",
    "upsonArea = 2176.19;\n",
    "wardArea = 1033.94;\n",
    "\n",
    "### Create dataframe for values \n",
    "Buildings = [\"Bard\", \"Carpenter\", \"Duffield\", \"Hollister\", \"Kimball\", \"Olin\", \"Phillips\", \"Snee\", \"Rhodes\", \"Upson\", \"Ward\"]\n",
    "Demand = [bardDemand, carpenterDemand, duffieldDemand, hollisterDemand, kimballDemand, olinDemand, phillipsDemand, sneeDemand, rhodesDemand, upsonDemand, wardDemand]\n",
    "Area = [bardArea, carpenterArea, duffieldArea, hollisterArea, kimballArea, olinArea, phillipsArea, sneeArea, rhodesArea, upsonArea, wardArea]\n",
    "Available_Area_Solar = Area .* 0.75\n",
    "EngQuad = DataFrame(Buildings = Buildings, Annual_Demand_kWh = Demand, Rooftop_Area = Area, Available_Area_Solar = Available_Area_Solar)\n"
   ]
  },
  {
   "cell_type": "markdown",
   "metadata": {},
   "source": [
    "### Optimization for Electricity Demand and Area"
   ]
  },
  {
   "cell_type": "markdown",
   "metadata": {},
   "source": [
    "#### Future Steps \n"
   ]
  }
 ],
 "metadata": {
  "kernelspec": {
   "display_name": "Julia 1.9.2",
   "language": "julia",
   "name": "julia-1.9"
  },
  "language_info": {
   "file_extension": ".jl",
   "mimetype": "application/julia",
   "name": "julia",
   "version": "1.9.2"
  },
  "orig_nbformat": 4
 },
 "nbformat": 4,
 "nbformat_minor": 2
}
