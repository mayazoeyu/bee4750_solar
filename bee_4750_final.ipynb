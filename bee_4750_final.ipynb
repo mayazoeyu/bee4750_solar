{
 "cells": [
  {
   "cell_type": "markdown",
   "metadata": {},
   "source": [
    "# BEE 4750 Final Project: Solar Photovoltaic Feasibility Study on Cornell's Engineering Quadrangle\n",
    "\n",
    "**Names**: Sitara Sastry, Maya Zoe Yu\n",
    "\n",
    "**ID**: sls496, mzy3\n",
    "\n",
    "> **Introduction**\n",
    ">\n",
    "> The following model will conduct a feasibility study of solar energy production on Cornell's Engineering Quadrangle. As Cornell’s Climate Action Plan seeks to have Cornell’s Ithaca campus carbon neutral by 2035 through utilizing 100% renewable energy, the proposed research will analyze if solar energy would help to achieve these goals. As such, the study will analyze how Cornell can invest in solar photovoltaics (PV) to increase this percentage – focusing mainly on the Engineering Quadrangle. In addition, the model will analyze the theoretical production of solar rooftop PV systems while optimzing cost. \n"
   ]
  },
  {
   "cell_type": "markdown",
   "metadata": {},
   "source": [
    "### Theoretical Solar Output Model"
   ]
  },
  {
   "cell_type": "markdown",
   "metadata": {},
   "source": [
    "#### Electricity Demand for Cornell's Engineering Quad\n",
    "Cornell's Engineering Quadrangle encompasses the following buildings: Olin Hall, Carpenter Hall, Duffield Hall, Phillips Hall, Rhodes Hall, Upson Hall, Kimball Hall, Thurston Hall, Bard Hall, Snee Hall, and Hollister Hall. The yearly electricity demand for these buildings may be found through the following: "
   ]
  },
  {
   "cell_type": "code",
   "execution_count": 3,
   "metadata": {},
   "outputs": [
    {
     "data": {
      "text/plain": [
       "solar_insolation (generic function with 3 methods)"
      ]
     },
     "metadata": {},
     "output_type": "display_data"
    }
   ],
   "source": [
    "### Solar Geometry Function\n",
    "function solar_geometry(N, L, H, β, γ)\n",
    "    δ = 23.45*sin[(360(284+N))/365] # Declination Angle \n",
    "    ω = (H-12)*15 # Hour Angle \n",
    "    α = asin[sin(δ)*sin(L)+cos(δ)*cos(L)*cos(ω)] # Solar Altitude Angle\n",
    "    γ_s = asin[(cos(δ)*sin(ω))/cos(α)] # Solar Azimuth Angle\n",
    "    θ_i = acos(sin(α)*cos(β)+cos(α)*sin(β)*cos(γ-γ_s)) # Incidence Angle\n",
    "end\n",
    "\n",
    "### Solar Insolation - Direct, Diffuse, Reflected\n",
    "function solar_insolation(N, L, β, K_t, ρ, H)\n",
    "    ratio_diffuse_global = 1.39-4.03(K_t)+5.53(K_t)^2-3.11(K_t)^3 # Ratio of Diffuse to Global Insolation\n",
    "    # Calculate sunset hour angle based on N\n",
    "    if N >= 79 && N <= 265\n",
    "        ω_s = min(acos(-tan(L)*tan(δ)), acos(-tan(L-β)*tan(δ)))\n",
    "    else \n",
    "        ω_s = acos(-tan(L)*tan(δ))\n",
    "    end\n",
    "    # Ratio of Beam at Angle to Beam onto Horizontal Surface\n",
    "    R_{b,β}=[cos(L-β)cos(δ)sin(ω_s)+ω_ssin(L-β)sin(δ)]/[cos(L)cos(δ)sin(ω_s)+ω_ssin(L)sin(δ)] \n",
    "    # Calculate direct, diffuse, and reflected insolation\n",
    "    Direct = (1-ratio_diffuse_global)R_{b,β}\n",
    "    Diffuse = (ratio_diffuse_global)[1+cos(β)]/2\n",
    "    Reflected = ρ(1-cos(β))/2\n",
    "    # Calcuate ratio of global insolation at angle to horizontal\n",
    "    R = Direct+Diffuse+Reflected\n",
    "    # Calculate total insolation onto angled surface at angle β [Energy/Area]\n",
    "    H_t = H(R)\n",
    "end\n",
    "\n"
   ]
  },
  {
   "cell_type": "markdown",
   "metadata": {},
   "source": [
    "#### Future Steps \n",
    "- Sitara: Decide area for each building \n",
    "- Collect 8760 for each building \n",
    "- Assume beta, L, K_t, rho, H, gamma \n",
    "- Create data frame for N (1:365)\n"
   ]
  },
  {
   "cell_type": "markdown",
   "metadata": {},
   "source": []
  }
 ],
 "metadata": {
  "kernelspec": {
   "display_name": "Julia 1.9.2",
   "language": "julia",
   "name": "julia-1.9"
  },
  "language_info": {
   "file_extension": ".jl",
   "mimetype": "application/julia",
   "name": "julia",
   "version": "1.9.2"
  },
  "orig_nbformat": 4
 },
 "nbformat": 4,
 "nbformat_minor": 2
}
